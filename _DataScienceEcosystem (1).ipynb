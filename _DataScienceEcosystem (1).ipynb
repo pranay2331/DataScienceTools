{
 "cells": [
  {
   "cell_type": "markdown",
   "id": "dc9b5738",
   "metadata": {},
   "source": [
    "# Data Science Tools and Ecosystem"
   ]
  },
  {
   "cell_type": "markdown",
   "id": "2f98d400",
   "metadata": {},
   "source": [
    "In this notebook, Data Science Tools and Ecosystem are summarized"
   ]
  },
  {
   "cell_type": "markdown",
   "id": "48f33512",
   "metadata": {},
   "source": [
    "### Objectives:\n",
    "->PYTHON\n",
    "->R\n",
    "->SQL\n",
    "->SCALA\n",
    "->JULIA"
   ]
  },
  {
   "cell_type": "markdown",
   "id": "d818b625",
   "metadata": {},
   "source": [
    "Some of the popular languages that Data Scientists use are:\n",
    "1)Python\n",
    "2)R\n",
    "3)SQL\n",
    "4)Java\n",
    "5)SCALA"
   ]
  },
  {
   "cell_type": "markdown",
   "id": "3c4b9302",
   "metadata": {},
   "source": [
    "Some of the commonly used libraries used by Data Scientists include:\n",
    "1)NUMPY\n",
    "2)PANDAS\n",
    "3)Matplotlib\n",
    "4)Seaborn\n",
    "5)pytorch\n",
    "6)scikit-learn\n"
   ]
  },
  {
   "cell_type": "markdown",
   "id": "d82eeb6b",
   "metadata": {},
   "source": [
    "## Data Science Tools\n",
    "  Jupyternotebooks\n",
    "  RStudio\n",
    "  Spyder"
   ]
  },
  {
   "cell_type": "markdown",
   "id": "b2d9e4e2",
   "metadata": {},
   "source": [
    "### Below are a few examples of evaluating arithmetic expressions in Python"
   ]
  },
  {
   "cell_type": "code",
   "execution_count": 1,
   "id": "28bfea64",
   "metadata": {},
   "outputs": [
    {
     "data": {
      "text/plain": [
       "17"
      ]
     },
     "execution_count": 1,
     "metadata": {},
     "output_type": "execute_result"
    }
   ],
   "source": [
    "# This a simple arithmetic expression to mutiply then add integers\n",
    "(3*4)+5"
   ]
  },
  {
   "cell_type": "code",
   "execution_count": 2,
   "id": "c78fac4d",
   "metadata": {},
   "outputs": [
    {
     "data": {
      "text/plain": [
       "3.3333333333333335"
      ]
     },
     "execution_count": 2,
     "metadata": {},
     "output_type": "execute_result"
    }
   ],
   "source": [
    "#This will convert 200 minutes to hours by diving by 60\n",
    "200/60"
   ]
  },
  {
   "cell_type": "markdown",
   "id": "85090512",
   "metadata": {},
   "source": [
    "## Author"
   ]
  },
  {
   "cell_type": "markdown",
   "id": "76360ad6",
   "metadata": {},
   "source": [
    "Pranay\n"
   ]
  },
  {
   "cell_type": "code",
   "execution_count": null,
   "id": "c78b8ef9",
   "metadata": {},
   "outputs": [],
   "source": []
  }
 ],
 "metadata": {
  "kernelspec": {
   "display_name": "Python 3 (ipykernel)",
   "language": "python",
   "name": "python3"
  },
  "language_info": {
   "codemirror_mode": {
    "name": "ipython",
    "version": 3
   },
   "file_extension": ".py",
   "mimetype": "text/x-python",
   "name": "python",
   "nbconvert_exporter": "python",
   "pygments_lexer": "ipython3",
   "version": "3.11.5"
  }
 },
 "nbformat": 4,
 "nbformat_minor": 5
}
